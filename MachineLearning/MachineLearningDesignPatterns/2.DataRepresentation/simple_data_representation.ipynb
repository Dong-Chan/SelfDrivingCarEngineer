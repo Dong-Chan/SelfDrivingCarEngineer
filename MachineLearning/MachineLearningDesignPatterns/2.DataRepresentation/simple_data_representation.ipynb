{
 "cells": [
  {
   "cell_type": "markdown",
   "metadata": {
    "slideshow": {
     "slide_type": "-"
    }
   },
   "source": [
    "## Simple data representations\n",
    "\n",
    "Before we delve into learnable data representations, feature crosses, etc., let's "
   ]
  },
  {
   "cell_type": "markdown",
   "metadata": {},
   "source": [
    "##### Scaling helps\n",
    "Models trained with scaled data converge faster and are therefore faster/cheapter to train."
   ]
  },
  {
   "cell_type": "code",
   "execution_count": 14,
   "metadata": {},
   "outputs": [
    {
     "name": "stdout",
     "output_type": "stream",
     "text": [
      "Row: 0.2913s, Scaled: 0.2536s, Improvement: 12.9%\n"
     ]
    }
   ],
   "source": [
    "import timeit\n",
    "from sklearn import datasets, linear_model\n",
    "diabetes_X, diabetes_y = datasets.load_diabetes(return_X_y=True)\n",
    "raw = diabetes_X[:, None, 2]\n",
    "max_raw = max(raw)\n",
    "min_raw = min(raw)\n",
    "scaled = (2*raw - max_raw - min_raw)/(max_raw - min_raw)\n",
    "\n",
    "def train_raw():\n",
    "    linear_model.LinearRegression().fit(raw, diabetes_y)\n",
    "    \n",
    "def train_scaled():\n",
    "    linear_model.LinearRegression().fit(scaled, diabetes_y)\n",
    "    \n",
    "raw_time = timeit.timeit(train_raw, number=1000)\n",
    "scaled_time = timeit.timeit(train_scaled, number=1000)\n",
    "print('Row: {:.4f}s, Scaled: {:.4f}s, Improvement: {:.1f}%'.format(raw_time, scaled_time, 100*(raw_time-scaled_time)/raw_time))"
   ]
  },
  {
   "cell_type": "code",
   "execution_count": null,
   "metadata": {},
   "outputs": [],
   "source": []
  },
  {
   "cell_type": "code",
   "execution_count": null,
   "metadata": {},
   "outputs": [],
   "source": []
  }
 ],
 "metadata": {
  "kernelspec": {
   "display_name": "Python 3",
   "language": "python",
   "name": "python3"
  },
  "language_info": {
   "codemirror_mode": {
    "name": "ipython",
    "version": 3
   },
   "file_extension": ".py",
   "mimetype": "text/x-python",
   "name": "python",
   "nbconvert_exporter": "python",
   "pygments_lexer": "ipython3",
   "version": "3.7.4"
  }
 },
 "nbformat": 4,
 "nbformat_minor": 2
}
